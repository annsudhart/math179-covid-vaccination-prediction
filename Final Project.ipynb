{
 "cells": [
  {
   "cell_type": "code",
   "execution_count": 1,
   "metadata": {},
   "outputs": [],
   "source": [
    "import pandas as pd\n",
    "import datetime as dt\n",
    "import matplotlib.pyplot as plt\n",
    "import numpy as np\n",
    "import math"
   ]
  },
  {
   "cell_type": "markdown",
   "metadata": {},
   "source": [
    "## Data Processing"
   ]
  },
  {
   "cell_type": "code",
   "execution_count": 2,
   "metadata": {},
   "outputs": [],
   "source": [
    "pVaccinesSent = pd.read_csv('./vaccines_sent_pfizer.csv')\n",
    "mVaccinesSent = pd.read_csv('./vaccines_sent_moderna.csv')\n",
    "jVaccinesSent = pd.read_csv('./vaccines_sent_jnj.csv')"
   ]
  },
  {
   "cell_type": "code",
   "execution_count": 3,
   "metadata": {},
   "outputs": [
    {
     "data": {
      "text/html": [
       "<div>\n",
       "<style scoped>\n",
       "    .dataframe tbody tr th:only-of-type {\n",
       "        vertical-align: middle;\n",
       "    }\n",
       "\n",
       "    .dataframe tbody tr th {\n",
       "        vertical-align: top;\n",
       "    }\n",
       "\n",
       "    .dataframe thead th {\n",
       "        text-align: right;\n",
       "    }\n",
       "</style>\n",
       "<table border=\"1\" class=\"dataframe\">\n",
       "  <thead>\n",
       "    <tr style=\"text-align: right;\">\n",
       "      <th></th>\n",
       "      <th>Jurisdiction</th>\n",
       "      <th>Week of Allocations</th>\n",
       "      <th>1st Dose Allocations</th>\n",
       "      <th>2nd Dose Allocations</th>\n",
       "    </tr>\n",
       "  </thead>\n",
       "  <tbody>\n",
       "    <tr>\n",
       "      <th>0</th>\n",
       "      <td>Connecticut</td>\n",
       "      <td>05/10/2021</td>\n",
       "      <td>54990</td>\n",
       "      <td>54990</td>\n",
       "    </tr>\n",
       "    <tr>\n",
       "      <th>1</th>\n",
       "      <td>Maine</td>\n",
       "      <td>05/10/2021</td>\n",
       "      <td>21060</td>\n",
       "      <td>21060</td>\n",
       "    </tr>\n",
       "    <tr>\n",
       "      <th>2</th>\n",
       "      <td>Massachusetts</td>\n",
       "      <td>05/10/2021</td>\n",
       "      <td>105300</td>\n",
       "      <td>105300</td>\n",
       "    </tr>\n",
       "    <tr>\n",
       "      <th>3</th>\n",
       "      <td>New Hampshire</td>\n",
       "      <td>05/10/2021</td>\n",
       "      <td>21060</td>\n",
       "      <td>21060</td>\n",
       "    </tr>\n",
       "    <tr>\n",
       "      <th>4</th>\n",
       "      <td>Rhode Island</td>\n",
       "      <td>05/10/2021</td>\n",
       "      <td>16380</td>\n",
       "      <td>16380</td>\n",
       "    </tr>\n",
       "  </tbody>\n",
       "</table>\n",
       "</div>"
      ],
      "text/plain": [
       "    Jurisdiction Week of Allocations  1st Dose Allocations  \\\n",
       "0    Connecticut          05/10/2021                 54990   \n",
       "1          Maine          05/10/2021                 21060   \n",
       "2  Massachusetts          05/10/2021                105300   \n",
       "3  New Hampshire          05/10/2021                 21060   \n",
       "4   Rhode Island          05/10/2021                 16380   \n",
       "\n",
       "   2nd Dose Allocations  \n",
       "0                 54990  \n",
       "1                 21060  \n",
       "2                105300  \n",
       "3                 21060  \n",
       "4                 16380  "
      ]
     },
     "execution_count": 3,
     "metadata": {},
     "output_type": "execute_result"
    }
   ],
   "source": [
    "pVaccinesSent.head(5)"
   ]
  },
  {
   "cell_type": "code",
   "execution_count": 4,
   "metadata": {},
   "outputs": [],
   "source": [
    "def getNationalTotal(vaccinesSent, name, twodose=True):\n",
    "    if twodose:\n",
    "        vaccinesSentNational = pd.DataFrame({'Week': [], (name + ' 1st Dose'): [], (name + ' 2nd Dose'): []})\n",
    "    else:\n",
    "        vaccinesSentNational = pd.DataFrame({'Week': [], (name + ' Dose'): []})\n",
    "    nationalTotal1 = 0\n",
    "    nationalTotal2 = 0\n",
    "    for i in range(len(vaccinesSent)-1):\n",
    "        if vaccinesSent.loc[i, 'Week of Allocations'] == vaccinesSent.loc[i+1, 'Week of Allocations']:\n",
    "            nationalTotal1 += vaccinesSent.loc[i, '1st Dose Allocations']\n",
    "            if twodose:\n",
    "                nationalTotal2 += vaccinesSent.loc[i, '2nd Dose Allocations']\n",
    "        else:\n",
    "            nationalTotal1 += vaccinesSent.loc[i, '1st Dose Allocations']\n",
    "            if twodose:\n",
    "                nationalTotal2 += vaccinesSent.loc[i, '2nd Dose Allocations']\n",
    "                vaccinesSentNational = vaccinesSentNational.append({'Week': vaccinesSent.loc[i, 'Week of Allocations'], (name + ' 1st Dose'): nationalTotal1, (name + ' 2nd Dose'): nationalTotal2}, ignore_index=True)\n",
    "            else:\n",
    "                vaccinesSentNational = vaccinesSentNational.append({'Week': vaccinesSent.loc[i, 'Week of Allocations'], (name + ' Dose'): nationalTotal1}, ignore_index=True)\n",
    "            nationalTotal1 = 0\n",
    "            nationalTotal2 = 0\n",
    "    if twodose:\n",
    "        vaccinesSentNational = vaccinesSentNational.append({'Week': vaccinesSent.loc[i, 'Week of Allocations'], (name + ' 1st Dose'): nationalTotal1, (name + ' 2nd Dose'): nationalTotal2}, ignore_index=True)\n",
    "    else:\n",
    "        vaccinesSentNational = vaccinesSentNational.append({'Week': vaccinesSent.loc[i, 'Week of Allocations'], (name + ' Dose'): nationalTotal1}, ignore_index=True)\n",
    "    return vaccinesSentNational"
   ]
  },
  {
   "cell_type": "code",
   "execution_count": 5,
   "metadata": {},
   "outputs": [],
   "source": [
    "pVaccinesSentNational = getNationalTotal(pVaccinesSent, name='Pfizer')\n",
    "mVaccinesSentNational = getNationalTotal(mVaccinesSent, name='Moderna')\n",
    "jVaccinesSentNational = getNationalTotal(jVaccinesSent, twodose=False, name='J&J')"
   ]
  },
  {
   "cell_type": "code",
   "execution_count": 6,
   "metadata": {},
   "outputs": [
    {
     "data": {
      "text/html": [
       "<div>\n",
       "<style scoped>\n",
       "    .dataframe tbody tr th:only-of-type {\n",
       "        vertical-align: middle;\n",
       "    }\n",
       "\n",
       "    .dataframe tbody tr th {\n",
       "        vertical-align: top;\n",
       "    }\n",
       "\n",
       "    .dataframe thead th {\n",
       "        text-align: right;\n",
       "    }\n",
       "</style>\n",
       "<table border=\"1\" class=\"dataframe\">\n",
       "  <thead>\n",
       "    <tr style=\"text-align: right;\">\n",
       "      <th></th>\n",
       "      <th>Week</th>\n",
       "      <th>Pfizer 1st Dose</th>\n",
       "      <th>Pfizer 2nd Dose</th>\n",
       "      <th>Moderna 1st Dose</th>\n",
       "      <th>Moderna 2nd Dose</th>\n",
       "      <th>J&amp;J Dose</th>\n",
       "      <th>Total Shipped</th>\n",
       "    </tr>\n",
       "  </thead>\n",
       "  <tbody>\n",
       "    <tr>\n",
       "      <th>0</th>\n",
       "      <td>05/10/2021</td>\n",
       "      <td>5084820.0</td>\n",
       "      <td>5084820.0</td>\n",
       "      <td>3845800.0</td>\n",
       "      <td>3845800.0</td>\n",
       "      <td>603600.0</td>\n",
       "      <td>18464840.0</td>\n",
       "    </tr>\n",
       "    <tr>\n",
       "      <th>1</th>\n",
       "      <td>05/03/2021</td>\n",
       "      <td>5087160.0</td>\n",
       "      <td>5087160.0</td>\n",
       "      <td>3767000.0</td>\n",
       "      <td>3767000.0</td>\n",
       "      <td>765500.0</td>\n",
       "      <td>18473820.0</td>\n",
       "    </tr>\n",
       "    <tr>\n",
       "      <th>2</th>\n",
       "      <td>04/26/2021</td>\n",
       "      <td>5068440.0</td>\n",
       "      <td>5068440.0</td>\n",
       "      <td>3751800.0</td>\n",
       "      <td>3751800.0</td>\n",
       "      <td>0.0</td>\n",
       "      <td>17640480.0</td>\n",
       "    </tr>\n",
       "    <tr>\n",
       "      <th>3</th>\n",
       "      <td>04/19/2021</td>\n",
       "      <td>5053230.0</td>\n",
       "      <td>5053230.0</td>\n",
       "      <td>3740100.0</td>\n",
       "      <td>3740100.0</td>\n",
       "      <td>0.0</td>\n",
       "      <td>17586660.0</td>\n",
       "    </tr>\n",
       "    <tr>\n",
       "      <th>4</th>\n",
       "      <td>04/12/2021</td>\n",
       "      <td>4717440.0</td>\n",
       "      <td>4717440.0</td>\n",
       "      <td>3478500.0</td>\n",
       "      <td>3478500.0</td>\n",
       "      <td>700000.0</td>\n",
       "      <td>17091880.0</td>\n",
       "    </tr>\n",
       "  </tbody>\n",
       "</table>\n",
       "</div>"
      ],
      "text/plain": [
       "         Week  Pfizer 1st Dose  Pfizer 2nd Dose  Moderna 1st Dose  \\\n",
       "0  05/10/2021        5084820.0        5084820.0         3845800.0   \n",
       "1  05/03/2021        5087160.0        5087160.0         3767000.0   \n",
       "2  04/26/2021        5068440.0        5068440.0         3751800.0   \n",
       "3  04/19/2021        5053230.0        5053230.0         3740100.0   \n",
       "4  04/12/2021        4717440.0        4717440.0         3478500.0   \n",
       "\n",
       "   Moderna 2nd Dose  J&J Dose  Total Shipped  \n",
       "0         3845800.0  603600.0     18464840.0  \n",
       "1         3767000.0  765500.0     18473820.0  \n",
       "2         3751800.0       0.0     17640480.0  \n",
       "3         3740100.0       0.0     17586660.0  \n",
       "4         3478500.0  700000.0     17091880.0  "
      ]
     },
     "execution_count": 6,
     "metadata": {},
     "output_type": "execute_result"
    }
   ],
   "source": [
    "vaccinesSent = pd.merge(pVaccinesSentNational, mVaccinesSentNational, on=\"Week\", how=\"left\")\n",
    "vaccinesSent = pd.merge(vaccinesSent, jVaccinesSentNational, on=\"Week\", how=\"left\")\n",
    "vaccinesSent.fillna(0, inplace=True)\n",
    "vaccinesSent['Total Shipped'] = vaccinesSent.sum(axis=1)\n",
    "vaccinesSent.head()"
   ]
  },
  {
   "cell_type": "code",
   "execution_count": 7,
   "metadata": {},
   "outputs": [
    {
     "data": {
      "text/html": [
       "<div>\n",
       "<style scoped>\n",
       "    .dataframe tbody tr th:only-of-type {\n",
       "        vertical-align: middle;\n",
       "    }\n",
       "\n",
       "    .dataframe tbody tr th {\n",
       "        vertical-align: top;\n",
       "    }\n",
       "\n",
       "    .dataframe thead th {\n",
       "        text-align: right;\n",
       "    }\n",
       "</style>\n",
       "<table border=\"1\" class=\"dataframe\">\n",
       "  <thead>\n",
       "    <tr style=\"text-align: right;\">\n",
       "      <th></th>\n",
       "      <th>Week</th>\n",
       "      <th>Pfizer 1st Dose</th>\n",
       "      <th>Pfizer 2nd Dose</th>\n",
       "      <th>Moderna 1st Dose</th>\n",
       "      <th>Moderna 2nd Dose</th>\n",
       "      <th>J&amp;J Dose</th>\n",
       "      <th>Total Shipped</th>\n",
       "    </tr>\n",
       "  </thead>\n",
       "  <tbody>\n",
       "    <tr>\n",
       "      <th>0</th>\n",
       "      <td>2020-12-14</td>\n",
       "      <td>2975700.0</td>\n",
       "      <td>2938650.0</td>\n",
       "      <td>0.0</td>\n",
       "      <td>0.0</td>\n",
       "      <td>0.0</td>\n",
       "      <td>5914350.0</td>\n",
       "    </tr>\n",
       "    <tr>\n",
       "      <th>1</th>\n",
       "      <td>2020-12-21</td>\n",
       "      <td>2071875.0</td>\n",
       "      <td>2071875.0</td>\n",
       "      <td>5980000.0</td>\n",
       "      <td>5938600.0</td>\n",
       "      <td>0.0</td>\n",
       "      <td>16062350.0</td>\n",
       "    </tr>\n",
       "    <tr>\n",
       "      <th>2</th>\n",
       "      <td>2020-12-28</td>\n",
       "      <td>2643225.0</td>\n",
       "      <td>2643225.0</td>\n",
       "      <td>2047300.0</td>\n",
       "      <td>2047300.0</td>\n",
       "      <td>0.0</td>\n",
       "      <td>9381050.0</td>\n",
       "    </tr>\n",
       "    <tr>\n",
       "      <th>3</th>\n",
       "      <td>2021-01-04</td>\n",
       "      <td>2131350.0</td>\n",
       "      <td>2092350.0</td>\n",
       "      <td>2104400.0</td>\n",
       "      <td>2064400.0</td>\n",
       "      <td>0.0</td>\n",
       "      <td>8392500.0</td>\n",
       "    </tr>\n",
       "    <tr>\n",
       "      <th>4</th>\n",
       "      <td>2021-01-11</td>\n",
       "      <td>2084550.0</td>\n",
       "      <td>2084550.0</td>\n",
       "      <td>2047200.0</td>\n",
       "      <td>2047200.0</td>\n",
       "      <td>0.0</td>\n",
       "      <td>8263500.0</td>\n",
       "    </tr>\n",
       "  </tbody>\n",
       "</table>\n",
       "</div>"
      ],
      "text/plain": [
       "        Week  Pfizer 1st Dose  Pfizer 2nd Dose  Moderna 1st Dose  \\\n",
       "0 2020-12-14        2975700.0        2938650.0               0.0   \n",
       "1 2020-12-21        2071875.0        2071875.0         5980000.0   \n",
       "2 2020-12-28        2643225.0        2643225.0         2047300.0   \n",
       "3 2021-01-04        2131350.0        2092350.0         2104400.0   \n",
       "4 2021-01-11        2084550.0        2084550.0         2047200.0   \n",
       "\n",
       "   Moderna 2nd Dose  J&J Dose  Total Shipped  \n",
       "0               0.0       0.0      5914350.0  \n",
       "1         5938600.0       0.0     16062350.0  \n",
       "2         2047300.0       0.0      9381050.0  \n",
       "3         2064400.0       0.0      8392500.0  \n",
       "4         2047200.0       0.0      8263500.0  "
      ]
     },
     "execution_count": 7,
     "metadata": {},
     "output_type": "execute_result"
    }
   ],
   "source": [
    "vaccinesSent['Week'] = pd.to_datetime(vaccinesSent['Week'])\n",
    "vaccinesSent['Week'] = vaccinesSent['Week'].apply(lambda x: dt.datetime(x.year,x.month,x.day))\n",
    "vaccinesSent = vaccinesSent.sort_values(by='Week', ascending=1)\n",
    "vaccinesSent.reset_index(inplace=True, drop=True)\n",
    "vaccinesSent.head()"
   ]
  },
  {
   "cell_type": "code",
   "execution_count": 8,
   "metadata": {},
   "outputs": [
    {
     "data": {
      "text/html": [
       "<div>\n",
       "<style scoped>\n",
       "    .dataframe tbody tr th:only-of-type {\n",
       "        vertical-align: middle;\n",
       "    }\n",
       "\n",
       "    .dataframe tbody tr th {\n",
       "        vertical-align: top;\n",
       "    }\n",
       "\n",
       "    .dataframe thead th {\n",
       "        text-align: right;\n",
       "    }\n",
       "</style>\n",
       "<table border=\"1\" class=\"dataframe\">\n",
       "  <thead>\n",
       "    <tr style=\"text-align: right;\">\n",
       "      <th></th>\n",
       "      <th>Week</th>\n",
       "      <th>Pfizer 1st Dose</th>\n",
       "      <th>Pfizer 2nd Dose</th>\n",
       "      <th>Moderna 1st Dose</th>\n",
       "      <th>Moderna 2nd Dose</th>\n",
       "      <th>J&amp;J Dose</th>\n",
       "      <th>Total Shipped</th>\n",
       "      <th>Shipped Dose 1</th>\n",
       "      <th>Shipped Dose 2</th>\n",
       "    </tr>\n",
       "  </thead>\n",
       "  <tbody>\n",
       "    <tr>\n",
       "      <th>0</th>\n",
       "      <td>2020-12-14</td>\n",
       "      <td>2975700.0</td>\n",
       "      <td>2938650.0</td>\n",
       "      <td>0.0</td>\n",
       "      <td>0.0</td>\n",
       "      <td>0.0</td>\n",
       "      <td>5914350.0</td>\n",
       "      <td>2975700.0</td>\n",
       "      <td>2938650.0</td>\n",
       "    </tr>\n",
       "    <tr>\n",
       "      <th>1</th>\n",
       "      <td>2020-12-21</td>\n",
       "      <td>2071875.0</td>\n",
       "      <td>2071875.0</td>\n",
       "      <td>5980000.0</td>\n",
       "      <td>5938600.0</td>\n",
       "      <td>0.0</td>\n",
       "      <td>16062350.0</td>\n",
       "      <td>8051875.0</td>\n",
       "      <td>8010475.0</td>\n",
       "    </tr>\n",
       "    <tr>\n",
       "      <th>2</th>\n",
       "      <td>2020-12-28</td>\n",
       "      <td>2643225.0</td>\n",
       "      <td>2643225.0</td>\n",
       "      <td>2047300.0</td>\n",
       "      <td>2047300.0</td>\n",
       "      <td>0.0</td>\n",
       "      <td>9381050.0</td>\n",
       "      <td>4690525.0</td>\n",
       "      <td>4690525.0</td>\n",
       "    </tr>\n",
       "    <tr>\n",
       "      <th>3</th>\n",
       "      <td>2021-01-04</td>\n",
       "      <td>2131350.0</td>\n",
       "      <td>2092350.0</td>\n",
       "      <td>2104400.0</td>\n",
       "      <td>2064400.0</td>\n",
       "      <td>0.0</td>\n",
       "      <td>8392500.0</td>\n",
       "      <td>4235750.0</td>\n",
       "      <td>4156750.0</td>\n",
       "    </tr>\n",
       "    <tr>\n",
       "      <th>4</th>\n",
       "      <td>2021-01-11</td>\n",
       "      <td>2084550.0</td>\n",
       "      <td>2084550.0</td>\n",
       "      <td>2047200.0</td>\n",
       "      <td>2047200.0</td>\n",
       "      <td>0.0</td>\n",
       "      <td>8263500.0</td>\n",
       "      <td>4131750.0</td>\n",
       "      <td>4131750.0</td>\n",
       "    </tr>\n",
       "  </tbody>\n",
       "</table>\n",
       "</div>"
      ],
      "text/plain": [
       "        Week  Pfizer 1st Dose  Pfizer 2nd Dose  Moderna 1st Dose  \\\n",
       "0 2020-12-14        2975700.0        2938650.0               0.0   \n",
       "1 2020-12-21        2071875.0        2071875.0         5980000.0   \n",
       "2 2020-12-28        2643225.0        2643225.0         2047300.0   \n",
       "3 2021-01-04        2131350.0        2092350.0         2104400.0   \n",
       "4 2021-01-11        2084550.0        2084550.0         2047200.0   \n",
       "\n",
       "   Moderna 2nd Dose  J&J Dose  Total Shipped  Shipped Dose 1  Shipped Dose 2  \n",
       "0               0.0       0.0      5914350.0       2975700.0       2938650.0  \n",
       "1         5938600.0       0.0     16062350.0       8051875.0       8010475.0  \n",
       "2         2047300.0       0.0      9381050.0       4690525.0       4690525.0  \n",
       "3         2064400.0       0.0      8392500.0       4235750.0       4156750.0  \n",
       "4         2047200.0       0.0      8263500.0       4131750.0       4131750.0  "
      ]
     },
     "execution_count": 8,
     "metadata": {},
     "output_type": "execute_result"
    }
   ],
   "source": [
    "vaccinesSent['Shipped Dose 1'] = vaccinesSent['Pfizer 1st Dose'] + vaccinesSent['Moderna 1st Dose'] + vaccinesSent['J&J Dose']\n",
    "vaccinesSent['Shipped Dose 2'] = vaccinesSent['Pfizer 2nd Dose'] +  + vaccinesSent['Moderna 2nd Dose']\n",
    "vaccinesSent.head()"
   ]
  },
  {
   "cell_type": "code",
   "execution_count": 9,
   "metadata": {},
   "outputs": [
    {
     "data": {
      "text/html": [
       "<div>\n",
       "<style scoped>\n",
       "    .dataframe tbody tr th:only-of-type {\n",
       "        vertical-align: middle;\n",
       "    }\n",
       "\n",
       "    .dataframe tbody tr th {\n",
       "        vertical-align: top;\n",
       "    }\n",
       "\n",
       "    .dataframe thead th {\n",
       "        text-align: right;\n",
       "    }\n",
       "</style>\n",
       "<table border=\"1\" class=\"dataframe\">\n",
       "  <thead>\n",
       "    <tr style=\"text-align: right;\">\n",
       "      <th></th>\n",
       "      <th>Date Type</th>\n",
       "      <th>Date</th>\n",
       "      <th>Program</th>\n",
       "      <th>Total Doses Administered Daily</th>\n",
       "      <th>Daily Count People Receiving Dose 1</th>\n",
       "      <th>Daily Count People Receiving Dose 2</th>\n",
       "      <th>Total Doses Administered Cumulative</th>\n",
       "      <th>People Receiving 1 or More Doses Cumulative</th>\n",
       "      <th>People Receiving 2 Doses Cumulative</th>\n",
       "      <th>7-Day Avg Daily Count Dose 1</th>\n",
       "      <th>7-Day Avg Total Doses Daily</th>\n",
       "      <th>7-Day Avg Daily Count Dose 2</th>\n",
       "      <th>Total Doses Administered Daily Change</th>\n",
       "      <th>7-Day Avg Total Doses Administered Daily Change</th>\n",
       "      <th>Daily Count of People Fully Vaccinated</th>\n",
       "      <th>People with at least One Dose Cumulative</th>\n",
       "      <th>People Fully Vaccinated Cumulative</th>\n",
       "      <th>7-Day Avg Daily Count of People Fully Vaccinated</th>\n",
       "    </tr>\n",
       "  </thead>\n",
       "  <tbody>\n",
       "    <tr>\n",
       "      <th>0</th>\n",
       "      <td>Admin</td>\n",
       "      <td>2020-12-13</td>\n",
       "      <td>US</td>\n",
       "      <td>12707.0</td>\n",
       "      <td>11183.0</td>\n",
       "      <td>1355.0</td>\n",
       "      <td>12707.0</td>\n",
       "      <td>11183.0</td>\n",
       "      <td>1355.0</td>\n",
       "      <td>11183.0</td>\n",
       "      <td>12707.0</td>\n",
       "      <td>1355.0</td>\n",
       "      <td>NaN</td>\n",
       "      <td>NaN</td>\n",
       "      <td>1431.0</td>\n",
       "      <td>11183.0</td>\n",
       "      <td>1431.0</td>\n",
       "      <td>1431.0</td>\n",
       "    </tr>\n",
       "    <tr>\n",
       "      <th>1</th>\n",
       "      <td>Report</td>\n",
       "      <td>2020-12-13</td>\n",
       "      <td>US</td>\n",
       "      <td>NaN</td>\n",
       "      <td>NaN</td>\n",
       "      <td>NaN</td>\n",
       "      <td>NaN</td>\n",
       "      <td>NaN</td>\n",
       "      <td>NaN</td>\n",
       "      <td>NaN</td>\n",
       "      <td>NaN</td>\n",
       "      <td>NaN</td>\n",
       "      <td>0.0</td>\n",
       "      <td>0.0</td>\n",
       "      <td>NaN</td>\n",
       "      <td>NaN</td>\n",
       "      <td>NaN</td>\n",
       "      <td>NaN</td>\n",
       "    </tr>\n",
       "    <tr>\n",
       "      <th>2</th>\n",
       "      <td>Admin</td>\n",
       "      <td>2020-12-13</td>\n",
       "      <td>LTC</td>\n",
       "      <td>229.0</td>\n",
       "      <td>229.0</td>\n",
       "      <td>0.0</td>\n",
       "      <td>229.0</td>\n",
       "      <td>229.0</td>\n",
       "      <td>0.0</td>\n",
       "      <td>229.0</td>\n",
       "      <td>229.0</td>\n",
       "      <td>0.0</td>\n",
       "      <td>NaN</td>\n",
       "      <td>NaN</td>\n",
       "      <td>0.0</td>\n",
       "      <td>229.0</td>\n",
       "      <td>0.0</td>\n",
       "      <td>0.0</td>\n",
       "    </tr>\n",
       "    <tr>\n",
       "      <th>3</th>\n",
       "      <td>Admin</td>\n",
       "      <td>2020-12-14</td>\n",
       "      <td>US</td>\n",
       "      <td>3801.0</td>\n",
       "      <td>3673.0</td>\n",
       "      <td>5.0</td>\n",
       "      <td>16508.0</td>\n",
       "      <td>14856.0</td>\n",
       "      <td>1360.0</td>\n",
       "      <td>7428.0</td>\n",
       "      <td>8254.0</td>\n",
       "      <td>680.0</td>\n",
       "      <td>NaN</td>\n",
       "      <td>NaN</td>\n",
       "      <td>23.0</td>\n",
       "      <td>14856.0</td>\n",
       "      <td>1454.0</td>\n",
       "      <td>727.0</td>\n",
       "    </tr>\n",
       "    <tr>\n",
       "      <th>4</th>\n",
       "      <td>Report</td>\n",
       "      <td>2020-12-14</td>\n",
       "      <td>US</td>\n",
       "      <td>NaN</td>\n",
       "      <td>NaN</td>\n",
       "      <td>NaN</td>\n",
       "      <td>NaN</td>\n",
       "      <td>NaN</td>\n",
       "      <td>NaN</td>\n",
       "      <td>NaN</td>\n",
       "      <td>NaN</td>\n",
       "      <td>NaN</td>\n",
       "      <td>509.0</td>\n",
       "      <td>255.0</td>\n",
       "      <td>NaN</td>\n",
       "      <td>NaN</td>\n",
       "      <td>NaN</td>\n",
       "      <td>NaN</td>\n",
       "    </tr>\n",
       "  </tbody>\n",
       "</table>\n",
       "</div>"
      ],
      "text/plain": [
       "  Date Type        Date Program  Total Doses Administered Daily  \\\n",
       "0     Admin  2020-12-13      US                         12707.0   \n",
       "1    Report  2020-12-13      US                             NaN   \n",
       "2     Admin  2020-12-13     LTC                           229.0   \n",
       "3     Admin  2020-12-14      US                          3801.0   \n",
       "4    Report  2020-12-14      US                             NaN   \n",
       "\n",
       "   Daily Count People Receiving Dose 1  Daily Count People Receiving Dose 2  \\\n",
       "0                              11183.0                               1355.0   \n",
       "1                                  NaN                                  NaN   \n",
       "2                                229.0                                  0.0   \n",
       "3                               3673.0                                  5.0   \n",
       "4                                  NaN                                  NaN   \n",
       "\n",
       "   Total Doses Administered Cumulative  \\\n",
       "0                              12707.0   \n",
       "1                                  NaN   \n",
       "2                                229.0   \n",
       "3                              16508.0   \n",
       "4                                  NaN   \n",
       "\n",
       "   People Receiving 1 or More Doses Cumulative  \\\n",
       "0                                      11183.0   \n",
       "1                                          NaN   \n",
       "2                                        229.0   \n",
       "3                                      14856.0   \n",
       "4                                          NaN   \n",
       "\n",
       "   People Receiving 2 Doses Cumulative  7-Day Avg Daily Count Dose 1  \\\n",
       "0                               1355.0                       11183.0   \n",
       "1                                  NaN                           NaN   \n",
       "2                                  0.0                         229.0   \n",
       "3                               1360.0                        7428.0   \n",
       "4                                  NaN                           NaN   \n",
       "\n",
       "   7-Day Avg Total Doses Daily  7-Day Avg Daily Count Dose 2  \\\n",
       "0                      12707.0                        1355.0   \n",
       "1                          NaN                           NaN   \n",
       "2                        229.0                           0.0   \n",
       "3                       8254.0                         680.0   \n",
       "4                          NaN                           NaN   \n",
       "\n",
       "   Total Doses Administered Daily Change  \\\n",
       "0                                    NaN   \n",
       "1                                    0.0   \n",
       "2                                    NaN   \n",
       "3                                    NaN   \n",
       "4                                  509.0   \n",
       "\n",
       "   7-Day Avg Total Doses Administered Daily Change  \\\n",
       "0                                              NaN   \n",
       "1                                              0.0   \n",
       "2                                              NaN   \n",
       "3                                              NaN   \n",
       "4                                            255.0   \n",
       "\n",
       "   Daily Count of People Fully Vaccinated  \\\n",
       "0                                  1431.0   \n",
       "1                                     NaN   \n",
       "2                                     0.0   \n",
       "3                                    23.0   \n",
       "4                                     NaN   \n",
       "\n",
       "   People with at least One Dose Cumulative  \\\n",
       "0                                   11183.0   \n",
       "1                                       NaN   \n",
       "2                                     229.0   \n",
       "3                                   14856.0   \n",
       "4                                       NaN   \n",
       "\n",
       "   People Fully Vaccinated Cumulative  \\\n",
       "0                              1431.0   \n",
       "1                                 NaN   \n",
       "2                                 0.0   \n",
       "3                              1454.0   \n",
       "4                                 NaN   \n",
       "\n",
       "   7-Day Avg Daily Count of People Fully Vaccinated  \n",
       "0                                            1431.0  \n",
       "1                                               NaN  \n",
       "2                                               0.0  \n",
       "3                                             727.0  \n",
       "4                                               NaN  "
      ]
     },
     "execution_count": 9,
     "metadata": {},
     "output_type": "execute_result"
    }
   ],
   "source": [
    "vaccinesAdministered = pd.read_csv('./vaccines_administered.csv')\n",
    "vaccinesAdministered.head()"
   ]
  },
  {
   "cell_type": "code",
   "execution_count": 10,
   "metadata": {},
   "outputs": [
    {
     "data": {
      "text/html": [
       "<div>\n",
       "<style scoped>\n",
       "    .dataframe tbody tr th:only-of-type {\n",
       "        vertical-align: middle;\n",
       "    }\n",
       "\n",
       "    .dataframe tbody tr th {\n",
       "        vertical-align: top;\n",
       "    }\n",
       "\n",
       "    .dataframe thead th {\n",
       "        text-align: right;\n",
       "    }\n",
       "</style>\n",
       "<table border=\"1\" class=\"dataframe\">\n",
       "  <thead>\n",
       "    <tr style=\"text-align: right;\">\n",
       "      <th></th>\n",
       "      <th>Date</th>\n",
       "      <th>Received Dose 1</th>\n",
       "      <th>Received Dose 2</th>\n",
       "      <th>Fully Vaccinated Total</th>\n",
       "    </tr>\n",
       "  </thead>\n",
       "  <tbody>\n",
       "    <tr>\n",
       "      <th>0</th>\n",
       "      <td>2020-12-13</td>\n",
       "      <td>11183.0</td>\n",
       "      <td>1355.0</td>\n",
       "      <td>1431.0</td>\n",
       "    </tr>\n",
       "    <tr>\n",
       "      <th>1</th>\n",
       "      <td>2020-12-14</td>\n",
       "      <td>3673.0</td>\n",
       "      <td>5.0</td>\n",
       "      <td>1454.0</td>\n",
       "    </tr>\n",
       "    <tr>\n",
       "      <th>2</th>\n",
       "      <td>2020-12-15</td>\n",
       "      <td>45967.0</td>\n",
       "      <td>27.0</td>\n",
       "      <td>1502.0</td>\n",
       "    </tr>\n",
       "    <tr>\n",
       "      <th>3</th>\n",
       "      <td>2020-12-16</td>\n",
       "      <td>152762.0</td>\n",
       "      <td>207.0</td>\n",
       "      <td>1730.0</td>\n",
       "    </tr>\n",
       "    <tr>\n",
       "      <th>4</th>\n",
       "      <td>2020-12-17</td>\n",
       "      <td>261535.0</td>\n",
       "      <td>510.0</td>\n",
       "      <td>2261.0</td>\n",
       "    </tr>\n",
       "  </tbody>\n",
       "</table>\n",
       "</div>"
      ],
      "text/plain": [
       "        Date  Received Dose 1  Received Dose 2  Fully Vaccinated Total\n",
       "0 2020-12-13          11183.0           1355.0                  1431.0\n",
       "1 2020-12-14           3673.0              5.0                  1454.0\n",
       "2 2020-12-15          45967.0             27.0                  1502.0\n",
       "3 2020-12-16         152762.0            207.0                  1730.0\n",
       "4 2020-12-17         261535.0            510.0                  2261.0"
      ]
     },
     "execution_count": 10,
     "metadata": {},
     "output_type": "execute_result"
    }
   ],
   "source": [
    "vaccinesAdministered = vaccinesAdministered[vaccinesAdministered['Program'] == 'US']\n",
    "vaccinesAdministered = vaccinesAdministered[vaccinesAdministered['Date Type'] == 'Admin']\n",
    "\n",
    "vaccinesAdministered['Date'] = pd.to_datetime(vaccinesAdministered['Date'])\n",
    "vaccinesAdministered['Date'] = vaccinesAdministered['Date'].apply(lambda x: dt.datetime(x.year,x.month,x.day))\n",
    "\n",
    "vaccinesAdministered['Received Dose 1'] = vaccinesAdministered['Daily Count People Receiving Dose 1']\n",
    "vaccinesAdministered['Received Dose 2'] = vaccinesAdministered['Daily Count People Receiving Dose 2']\n",
    "vaccinesAdministered['Fully Vaccinated Total'] = vaccinesAdministered['People Fully Vaccinated Cumulative']\n",
    "vaccinesAdministered = vaccinesAdministered[['Date', 'Received Dose 1', 'Received Dose 2', 'Fully Vaccinated Total']]\n",
    "\n",
    "vaccinesAdministered.reset_index(inplace=True, drop=True)\n",
    "\n",
    "vaccinesAdministered.head()"
   ]
  },
  {
   "cell_type": "code",
   "execution_count": 11,
   "metadata": {},
   "outputs": [],
   "source": [
    "#for i in range(len(vaccinesAdministered)):\n",
    "vaccinesAdministered['New Fully Vaccinated'] = pd.Series() \n",
    "vaccinesAdministered.loc[0, 'New Fully Vaccinated'] = vaccinesAdministered.loc[0, 'Fully Vaccinated Total']\n",
    "for i in range(1, len(vaccinesAdministered)):\n",
    "    diff = vaccinesAdministered.loc[i, 'Fully Vaccinated Total'] - vaccinesAdministered.loc[i-1, 'Fully Vaccinated Total']\n",
    "    vaccinesAdministered.loc[i, 'New Fully Vaccinated'] = diff"
   ]
  },
  {
   "cell_type": "code",
   "execution_count": 12,
   "metadata": {},
   "outputs": [
    {
     "data": {
      "text/html": [
       "<div>\n",
       "<style scoped>\n",
       "    .dataframe tbody tr th:only-of-type {\n",
       "        vertical-align: middle;\n",
       "    }\n",
       "\n",
       "    .dataframe tbody tr th {\n",
       "        vertical-align: top;\n",
       "    }\n",
       "\n",
       "    .dataframe thead th {\n",
       "        text-align: right;\n",
       "    }\n",
       "</style>\n",
       "<table border=\"1\" class=\"dataframe\">\n",
       "  <thead>\n",
       "    <tr style=\"text-align: right;\">\n",
       "      <th></th>\n",
       "      <th>Date</th>\n",
       "      <th>Received Dose 1</th>\n",
       "      <th>Received Dose 2</th>\n",
       "      <th>Fully Vaccinated Total</th>\n",
       "      <th>New Fully Vaccinated</th>\n",
       "    </tr>\n",
       "  </thead>\n",
       "  <tbody>\n",
       "    <tr>\n",
       "      <th>0</th>\n",
       "      <td>2020-12-13</td>\n",
       "      <td>11183.0</td>\n",
       "      <td>1355.0</td>\n",
       "      <td>1431.0</td>\n",
       "      <td>1431.0</td>\n",
       "    </tr>\n",
       "    <tr>\n",
       "      <th>1</th>\n",
       "      <td>2020-12-14</td>\n",
       "      <td>3673.0</td>\n",
       "      <td>5.0</td>\n",
       "      <td>1454.0</td>\n",
       "      <td>23.0</td>\n",
       "    </tr>\n",
       "    <tr>\n",
       "      <th>2</th>\n",
       "      <td>2020-12-15</td>\n",
       "      <td>45967.0</td>\n",
       "      <td>27.0</td>\n",
       "      <td>1502.0</td>\n",
       "      <td>48.0</td>\n",
       "    </tr>\n",
       "    <tr>\n",
       "      <th>3</th>\n",
       "      <td>2020-12-16</td>\n",
       "      <td>152762.0</td>\n",
       "      <td>207.0</td>\n",
       "      <td>1730.0</td>\n",
       "      <td>228.0</td>\n",
       "    </tr>\n",
       "    <tr>\n",
       "      <th>4</th>\n",
       "      <td>2020-12-17</td>\n",
       "      <td>261535.0</td>\n",
       "      <td>510.0</td>\n",
       "      <td>2261.0</td>\n",
       "      <td>531.0</td>\n",
       "    </tr>\n",
       "  </tbody>\n",
       "</table>\n",
       "</div>"
      ],
      "text/plain": [
       "        Date  Received Dose 1  Received Dose 2  Fully Vaccinated Total  \\\n",
       "0 2020-12-13          11183.0           1355.0                  1431.0   \n",
       "1 2020-12-14           3673.0              5.0                  1454.0   \n",
       "2 2020-12-15          45967.0             27.0                  1502.0   \n",
       "3 2020-12-16         152762.0            207.0                  1730.0   \n",
       "4 2020-12-17         261535.0            510.0                  2261.0   \n",
       "\n",
       "   New Fully Vaccinated  \n",
       "0                1431.0  \n",
       "1                  23.0  \n",
       "2                  48.0  \n",
       "3                 228.0  \n",
       "4                 531.0  "
      ]
     },
     "execution_count": 12,
     "metadata": {},
     "output_type": "execute_result"
    }
   ],
   "source": [
    "vaccinesAdministered.head()"
   ]
  },
  {
   "cell_type": "code",
   "execution_count": 13,
   "metadata": {},
   "outputs": [
    {
     "data": {
      "text/html": [
       "<div>\n",
       "<style scoped>\n",
       "    .dataframe tbody tr th:only-of-type {\n",
       "        vertical-align: middle;\n",
       "    }\n",
       "\n",
       "    .dataframe tbody tr th {\n",
       "        vertical-align: top;\n",
       "    }\n",
       "\n",
       "    .dataframe thead th {\n",
       "        text-align: right;\n",
       "    }\n",
       "</style>\n",
       "<table border=\"1\" class=\"dataframe\">\n",
       "  <thead>\n",
       "    <tr style=\"text-align: right;\">\n",
       "      <th></th>\n",
       "      <th>Week</th>\n",
       "      <th>Pfizer 1st Dose</th>\n",
       "      <th>Pfizer 2nd Dose</th>\n",
       "      <th>Moderna 1st Dose</th>\n",
       "      <th>Moderna 2nd Dose</th>\n",
       "      <th>J&amp;J Dose</th>\n",
       "      <th>Total Shipped</th>\n",
       "      <th>Shipped Dose 1</th>\n",
       "      <th>Shipped Dose 2</th>\n",
       "    </tr>\n",
       "  </thead>\n",
       "  <tbody>\n",
       "    <tr>\n",
       "      <th>0</th>\n",
       "      <td>2020-12-14</td>\n",
       "      <td>2975700.0</td>\n",
       "      <td>2938650.0</td>\n",
       "      <td>0.0</td>\n",
       "      <td>0.0</td>\n",
       "      <td>0.0</td>\n",
       "      <td>5914350.0</td>\n",
       "      <td>2975700.0</td>\n",
       "      <td>2938650.0</td>\n",
       "    </tr>\n",
       "    <tr>\n",
       "      <th>1</th>\n",
       "      <td>2020-12-21</td>\n",
       "      <td>2071875.0</td>\n",
       "      <td>2071875.0</td>\n",
       "      <td>5980000.0</td>\n",
       "      <td>5938600.0</td>\n",
       "      <td>0.0</td>\n",
       "      <td>16062350.0</td>\n",
       "      <td>8051875.0</td>\n",
       "      <td>8010475.0</td>\n",
       "    </tr>\n",
       "    <tr>\n",
       "      <th>2</th>\n",
       "      <td>2020-12-28</td>\n",
       "      <td>2643225.0</td>\n",
       "      <td>2643225.0</td>\n",
       "      <td>2047300.0</td>\n",
       "      <td>2047300.0</td>\n",
       "      <td>0.0</td>\n",
       "      <td>9381050.0</td>\n",
       "      <td>4690525.0</td>\n",
       "      <td>4690525.0</td>\n",
       "    </tr>\n",
       "    <tr>\n",
       "      <th>3</th>\n",
       "      <td>2021-01-04</td>\n",
       "      <td>2131350.0</td>\n",
       "      <td>2092350.0</td>\n",
       "      <td>2104400.0</td>\n",
       "      <td>2064400.0</td>\n",
       "      <td>0.0</td>\n",
       "      <td>8392500.0</td>\n",
       "      <td>4235750.0</td>\n",
       "      <td>4156750.0</td>\n",
       "    </tr>\n",
       "    <tr>\n",
       "      <th>4</th>\n",
       "      <td>2021-01-11</td>\n",
       "      <td>2084550.0</td>\n",
       "      <td>2084550.0</td>\n",
       "      <td>2047200.0</td>\n",
       "      <td>2047200.0</td>\n",
       "      <td>0.0</td>\n",
       "      <td>8263500.0</td>\n",
       "      <td>4131750.0</td>\n",
       "      <td>4131750.0</td>\n",
       "    </tr>\n",
       "  </tbody>\n",
       "</table>\n",
       "</div>"
      ],
      "text/plain": [
       "        Week  Pfizer 1st Dose  Pfizer 2nd Dose  Moderna 1st Dose  \\\n",
       "0 2020-12-14        2975700.0        2938650.0               0.0   \n",
       "1 2020-12-21        2071875.0        2071875.0         5980000.0   \n",
       "2 2020-12-28        2643225.0        2643225.0         2047300.0   \n",
       "3 2021-01-04        2131350.0        2092350.0         2104400.0   \n",
       "4 2021-01-11        2084550.0        2084550.0         2047200.0   \n",
       "\n",
       "   Moderna 2nd Dose  J&J Dose  Total Shipped  Shipped Dose 1  Shipped Dose 2  \n",
       "0               0.0       0.0      5914350.0       2975700.0       2938650.0  \n",
       "1         5938600.0       0.0     16062350.0       8051875.0       8010475.0  \n",
       "2         2047300.0       0.0      9381050.0       4690525.0       4690525.0  \n",
       "3         2064400.0       0.0      8392500.0       4235750.0       4156750.0  \n",
       "4         2047200.0       0.0      8263500.0       4131750.0       4131750.0  "
      ]
     },
     "execution_count": 13,
     "metadata": {},
     "output_type": "execute_result"
    }
   ],
   "source": [
    "vaccinesSent = vaccinesSent.sort_values(by='Week', ascending=1)\n",
    "vaccinesSent.reset_index(inplace=True, drop=True)\n",
    "vaccinesSent.head()"
   ]
  },
  {
   "cell_type": "code",
   "execution_count": 14,
   "metadata": {},
   "outputs": [
    {
     "data": {
      "text/html": [
       "<div>\n",
       "<style scoped>\n",
       "    .dataframe tbody tr th:only-of-type {\n",
       "        vertical-align: middle;\n",
       "    }\n",
       "\n",
       "    .dataframe tbody tr th {\n",
       "        vertical-align: top;\n",
       "    }\n",
       "\n",
       "    .dataframe thead th {\n",
       "        text-align: right;\n",
       "    }\n",
       "</style>\n",
       "<table border=\"1\" class=\"dataframe\">\n",
       "  <thead>\n",
       "    <tr style=\"text-align: right;\">\n",
       "      <th></th>\n",
       "      <th>Date</th>\n",
       "      <th>Received Dose 1</th>\n",
       "      <th>Received Dose 2</th>\n",
       "      <th>Fully Vaccinated Total</th>\n",
       "      <th>New Fully Vaccinated</th>\n",
       "      <th>Week</th>\n",
       "    </tr>\n",
       "  </thead>\n",
       "  <tbody>\n",
       "    <tr>\n",
       "      <th>0</th>\n",
       "      <td>2020-12-13</td>\n",
       "      <td>11183.0</td>\n",
       "      <td>1355.0</td>\n",
       "      <td>1431.0</td>\n",
       "      <td>1431.0</td>\n",
       "      <td>2020-12-14</td>\n",
       "    </tr>\n",
       "    <tr>\n",
       "      <th>1</th>\n",
       "      <td>2020-12-14</td>\n",
       "      <td>3673.0</td>\n",
       "      <td>5.0</td>\n",
       "      <td>1454.0</td>\n",
       "      <td>23.0</td>\n",
       "      <td>2020-12-14</td>\n",
       "    </tr>\n",
       "    <tr>\n",
       "      <th>2</th>\n",
       "      <td>2020-12-15</td>\n",
       "      <td>45967.0</td>\n",
       "      <td>27.0</td>\n",
       "      <td>1502.0</td>\n",
       "      <td>48.0</td>\n",
       "      <td>2020-12-21</td>\n",
       "    </tr>\n",
       "    <tr>\n",
       "      <th>3</th>\n",
       "      <td>2020-12-16</td>\n",
       "      <td>152762.0</td>\n",
       "      <td>207.0</td>\n",
       "      <td>1730.0</td>\n",
       "      <td>228.0</td>\n",
       "      <td>2020-12-21</td>\n",
       "    </tr>\n",
       "    <tr>\n",
       "      <th>4</th>\n",
       "      <td>2020-12-17</td>\n",
       "      <td>261535.0</td>\n",
       "      <td>510.0</td>\n",
       "      <td>2261.0</td>\n",
       "      <td>531.0</td>\n",
       "      <td>2020-12-21</td>\n",
       "    </tr>\n",
       "  </tbody>\n",
       "</table>\n",
       "</div>"
      ],
      "text/plain": [
       "        Date  Received Dose 1  Received Dose 2  Fully Vaccinated Total  \\\n",
       "0 2020-12-13          11183.0           1355.0                  1431.0   \n",
       "1 2020-12-14           3673.0              5.0                  1454.0   \n",
       "2 2020-12-15          45967.0             27.0                  1502.0   \n",
       "3 2020-12-16         152762.0            207.0                  1730.0   \n",
       "4 2020-12-17         261535.0            510.0                  2261.0   \n",
       "\n",
       "   New Fully Vaccinated       Week  \n",
       "0                1431.0 2020-12-14  \n",
       "1                  23.0 2020-12-14  \n",
       "2                  48.0 2020-12-21  \n",
       "3                 228.0 2020-12-21  \n",
       "4                 531.0 2020-12-21  "
      ]
     },
     "execution_count": 14,
     "metadata": {},
     "output_type": "execute_result"
    }
   ],
   "source": [
    "vaccinesAdministered['Week'] = pd.Series()\n",
    "week = vaccinesSent.loc[0, 'Week']\n",
    "weekCt = 0\n",
    "for i in range(len(vaccinesAdministered)):\n",
    "    dayDiff = (vaccinesAdministered.loc[i, 'Date'] - vaccinesSent.loc[weekCt, 'Week']).days % 7\n",
    "    if dayDiff == 1:\n",
    "        weekCt += 1\n",
    "        week = vaccinesSent.loc[weekCt, 'Week']\n",
    "    vaccinesAdministered.loc[i, 'Week'] = week\n",
    "vaccinesAdministered['Week'] = pd.to_datetime(vaccinesAdministered['Week'])\n",
    "vaccinesAdministered.head()"
   ]
  },
  {
   "cell_type": "code",
   "execution_count": 15,
   "metadata": {},
   "outputs": [
    {
     "data": {
      "text/html": [
       "<div>\n",
       "<style scoped>\n",
       "    .dataframe tbody tr th:only-of-type {\n",
       "        vertical-align: middle;\n",
       "    }\n",
       "\n",
       "    .dataframe tbody tr th {\n",
       "        vertical-align: top;\n",
       "    }\n",
       "\n",
       "    .dataframe thead th {\n",
       "        text-align: right;\n",
       "    }\n",
       "</style>\n",
       "<table border=\"1\" class=\"dataframe\">\n",
       "  <thead>\n",
       "    <tr style=\"text-align: right;\">\n",
       "      <th></th>\n",
       "      <th>Week</th>\n",
       "      <th>Pfizer 1st Dose</th>\n",
       "      <th>Pfizer 2nd Dose</th>\n",
       "      <th>Moderna 1st Dose</th>\n",
       "      <th>Moderna 2nd Dose</th>\n",
       "      <th>J&amp;J Dose</th>\n",
       "      <th>Total Shipped</th>\n",
       "      <th>Shipped Dose 1</th>\n",
       "      <th>Shipped Dose 2</th>\n",
       "    </tr>\n",
       "  </thead>\n",
       "  <tbody>\n",
       "    <tr>\n",
       "      <th>0</th>\n",
       "      <td>2020-12-14</td>\n",
       "      <td>2975700.0</td>\n",
       "      <td>2938650.0</td>\n",
       "      <td>0.0</td>\n",
       "      <td>0.0</td>\n",
       "      <td>0.0</td>\n",
       "      <td>5914350.0</td>\n",
       "      <td>2975700.0</td>\n",
       "      <td>2938650.0</td>\n",
       "    </tr>\n",
       "    <tr>\n",
       "      <th>1</th>\n",
       "      <td>2020-12-21</td>\n",
       "      <td>2071875.0</td>\n",
       "      <td>2071875.0</td>\n",
       "      <td>5980000.0</td>\n",
       "      <td>5938600.0</td>\n",
       "      <td>0.0</td>\n",
       "      <td>16062350.0</td>\n",
       "      <td>8051875.0</td>\n",
       "      <td>8010475.0</td>\n",
       "    </tr>\n",
       "    <tr>\n",
       "      <th>2</th>\n",
       "      <td>2020-12-28</td>\n",
       "      <td>2643225.0</td>\n",
       "      <td>2643225.0</td>\n",
       "      <td>2047300.0</td>\n",
       "      <td>2047300.0</td>\n",
       "      <td>0.0</td>\n",
       "      <td>9381050.0</td>\n",
       "      <td>4690525.0</td>\n",
       "      <td>4690525.0</td>\n",
       "    </tr>\n",
       "    <tr>\n",
       "      <th>3</th>\n",
       "      <td>2021-01-04</td>\n",
       "      <td>2131350.0</td>\n",
       "      <td>2092350.0</td>\n",
       "      <td>2104400.0</td>\n",
       "      <td>2064400.0</td>\n",
       "      <td>0.0</td>\n",
       "      <td>8392500.0</td>\n",
       "      <td>4235750.0</td>\n",
       "      <td>4156750.0</td>\n",
       "    </tr>\n",
       "    <tr>\n",
       "      <th>4</th>\n",
       "      <td>2021-01-11</td>\n",
       "      <td>2084550.0</td>\n",
       "      <td>2084550.0</td>\n",
       "      <td>2047200.0</td>\n",
       "      <td>2047200.0</td>\n",
       "      <td>0.0</td>\n",
       "      <td>8263500.0</td>\n",
       "      <td>4131750.0</td>\n",
       "      <td>4131750.0</td>\n",
       "    </tr>\n",
       "  </tbody>\n",
       "</table>\n",
       "</div>"
      ],
      "text/plain": [
       "        Week  Pfizer 1st Dose  Pfizer 2nd Dose  Moderna 1st Dose  \\\n",
       "0 2020-12-14        2975700.0        2938650.0               0.0   \n",
       "1 2020-12-21        2071875.0        2071875.0         5980000.0   \n",
       "2 2020-12-28        2643225.0        2643225.0         2047300.0   \n",
       "3 2021-01-04        2131350.0        2092350.0         2104400.0   \n",
       "4 2021-01-11        2084550.0        2084550.0         2047200.0   \n",
       "\n",
       "   Moderna 2nd Dose  J&J Dose  Total Shipped  Shipped Dose 1  Shipped Dose 2  \n",
       "0               0.0       0.0      5914350.0       2975700.0       2938650.0  \n",
       "1         5938600.0       0.0     16062350.0       8051875.0       8010475.0  \n",
       "2         2047300.0       0.0      9381050.0       4690525.0       4690525.0  \n",
       "3         2064400.0       0.0      8392500.0       4235750.0       4156750.0  \n",
       "4         2047200.0       0.0      8263500.0       4131750.0       4131750.0  "
      ]
     },
     "execution_count": 15,
     "metadata": {},
     "output_type": "execute_result"
    }
   ],
   "source": [
    "vaccinesSent.head()"
   ]
  },
  {
   "cell_type": "code",
   "execution_count": 16,
   "metadata": {},
   "outputs": [
    {
     "data": {
      "text/html": [
       "<div>\n",
       "<style scoped>\n",
       "    .dataframe tbody tr th:only-of-type {\n",
       "        vertical-align: middle;\n",
       "    }\n",
       "\n",
       "    .dataframe tbody tr th {\n",
       "        vertical-align: top;\n",
       "    }\n",
       "\n",
       "    .dataframe thead th {\n",
       "        text-align: right;\n",
       "    }\n",
       "</style>\n",
       "<table border=\"1\" class=\"dataframe\">\n",
       "  <thead>\n",
       "    <tr style=\"text-align: right;\">\n",
       "      <th></th>\n",
       "      <th>Date</th>\n",
       "      <th>Week</th>\n",
       "      <th>Received Dose 1</th>\n",
       "      <th>Received Dose 2</th>\n",
       "      <th>Fully Vaccinated Total</th>\n",
       "      <th>New Fully Vaccinated</th>\n",
       "      <th>Total Shipped</th>\n",
       "      <th>Shipped Dose 1</th>\n",
       "      <th>Shipped Dose 2</th>\n",
       "    </tr>\n",
       "  </thead>\n",
       "  <tbody>\n",
       "    <tr>\n",
       "      <th>0</th>\n",
       "      <td>2020-12-13</td>\n",
       "      <td>2020-12-14</td>\n",
       "      <td>11183.0</td>\n",
       "      <td>1355.0</td>\n",
       "      <td>1431.0</td>\n",
       "      <td>1431.0</td>\n",
       "      <td>5914350.0</td>\n",
       "      <td>2975700.0</td>\n",
       "      <td>2938650.0</td>\n",
       "    </tr>\n",
       "    <tr>\n",
       "      <th>1</th>\n",
       "      <td>2020-12-14</td>\n",
       "      <td>2020-12-14</td>\n",
       "      <td>3673.0</td>\n",
       "      <td>5.0</td>\n",
       "      <td>1454.0</td>\n",
       "      <td>23.0</td>\n",
       "      <td>5914350.0</td>\n",
       "      <td>2975700.0</td>\n",
       "      <td>2938650.0</td>\n",
       "    </tr>\n",
       "    <tr>\n",
       "      <th>2</th>\n",
       "      <td>2020-12-15</td>\n",
       "      <td>2020-12-21</td>\n",
       "      <td>45967.0</td>\n",
       "      <td>27.0</td>\n",
       "      <td>1502.0</td>\n",
       "      <td>48.0</td>\n",
       "      <td>16062350.0</td>\n",
       "      <td>8051875.0</td>\n",
       "      <td>8010475.0</td>\n",
       "    </tr>\n",
       "    <tr>\n",
       "      <th>3</th>\n",
       "      <td>2020-12-16</td>\n",
       "      <td>2020-12-21</td>\n",
       "      <td>152762.0</td>\n",
       "      <td>207.0</td>\n",
       "      <td>1730.0</td>\n",
       "      <td>228.0</td>\n",
       "      <td>16062350.0</td>\n",
       "      <td>8051875.0</td>\n",
       "      <td>8010475.0</td>\n",
       "    </tr>\n",
       "    <tr>\n",
       "      <th>4</th>\n",
       "      <td>2020-12-17</td>\n",
       "      <td>2020-12-21</td>\n",
       "      <td>261535.0</td>\n",
       "      <td>510.0</td>\n",
       "      <td>2261.0</td>\n",
       "      <td>531.0</td>\n",
       "      <td>16062350.0</td>\n",
       "      <td>8051875.0</td>\n",
       "      <td>8010475.0</td>\n",
       "    </tr>\n",
       "  </tbody>\n",
       "</table>\n",
       "</div>"
      ],
      "text/plain": [
       "        Date       Week  Received Dose 1  Received Dose 2  \\\n",
       "0 2020-12-13 2020-12-14          11183.0           1355.0   \n",
       "1 2020-12-14 2020-12-14           3673.0              5.0   \n",
       "2 2020-12-15 2020-12-21          45967.0             27.0   \n",
       "3 2020-12-16 2020-12-21         152762.0            207.0   \n",
       "4 2020-12-17 2020-12-21         261535.0            510.0   \n",
       "\n",
       "   Fully Vaccinated Total  New Fully Vaccinated  Total Shipped  \\\n",
       "0                  1431.0                1431.0      5914350.0   \n",
       "1                  1454.0                  23.0      5914350.0   \n",
       "2                  1502.0                  48.0     16062350.0   \n",
       "3                  1730.0                 228.0     16062350.0   \n",
       "4                  2261.0                 531.0     16062350.0   \n",
       "\n",
       "   Shipped Dose 1  Shipped Dose 2  \n",
       "0       2975700.0       2938650.0  \n",
       "1       2975700.0       2938650.0  \n",
       "2       8051875.0       8010475.0  \n",
       "3       8051875.0       8010475.0  \n",
       "4       8051875.0       8010475.0  "
      ]
     },
     "execution_count": 16,
     "metadata": {},
     "output_type": "execute_result"
    }
   ],
   "source": [
    "vaccines = pd.merge(vaccinesAdministered, vaccinesSent, on=\"Week\", how=\"left\")\n",
    "vaccines = vaccines[['Date', 'Week', 'Received Dose 1', 'Received Dose 2', 'Fully Vaccinated Total', 'New Fully Vaccinated', 'Total Shipped', 'Shipped Dose 1', 'Shipped Dose 2']]\n",
    "vaccines.head()"
   ]
  },
  {
   "cell_type": "code",
   "execution_count": 17,
   "metadata": {},
   "outputs": [
    {
     "data": {
      "text/html": [
       "<div>\n",
       "<style scoped>\n",
       "    .dataframe tbody tr th:only-of-type {\n",
       "        vertical-align: middle;\n",
       "    }\n",
       "\n",
       "    .dataframe tbody tr th {\n",
       "        vertical-align: top;\n",
       "    }\n",
       "\n",
       "    .dataframe thead th {\n",
       "        text-align: right;\n",
       "    }\n",
       "</style>\n",
       "<table border=\"1\" class=\"dataframe\">\n",
       "  <thead>\n",
       "    <tr style=\"text-align: right;\">\n",
       "      <th></th>\n",
       "      <th>Week</th>\n",
       "      <th>Shipped Dose 1</th>\n",
       "      <th>Shipped Dose 2</th>\n",
       "      <th>Received Dose 1</th>\n",
       "      <th>Received Dose 2</th>\n",
       "      <th>Fully Vaccinated Total</th>\n",
       "      <th>New Fully Vaccinated</th>\n",
       "      <th>Total Shipped</th>\n",
       "      <th>Week #</th>\n",
       "    </tr>\n",
       "  </thead>\n",
       "  <tbody>\n",
       "    <tr>\n",
       "      <th>0</th>\n",
       "      <td>2020-12-14</td>\n",
       "      <td>2975700.0</td>\n",
       "      <td>2938650.0</td>\n",
       "      <td>14856.0</td>\n",
       "      <td>1360.0</td>\n",
       "      <td>1454.0</td>\n",
       "      <td>1454.0</td>\n",
       "      <td>5914350.0</td>\n",
       "      <td>0.0</td>\n",
       "    </tr>\n",
       "    <tr>\n",
       "      <th>1</th>\n",
       "      <td>2020-12-21</td>\n",
       "      <td>8051875.0</td>\n",
       "      <td>8010475.0</td>\n",
       "      <td>1526326.0</td>\n",
       "      <td>3515.0</td>\n",
       "      <td>5077.0</td>\n",
       "      <td>3623.0</td>\n",
       "      <td>16062350.0</td>\n",
       "      <td>1.0</td>\n",
       "    </tr>\n",
       "    <tr>\n",
       "      <th>2</th>\n",
       "      <td>2020-12-28</td>\n",
       "      <td>4690525.0</td>\n",
       "      <td>4690525.0</td>\n",
       "      <td>3502976.0</td>\n",
       "      <td>7934.0</td>\n",
       "      <td>13077.0</td>\n",
       "      <td>8000.0</td>\n",
       "      <td>9381050.0</td>\n",
       "      <td>2.0</td>\n",
       "    </tr>\n",
       "    <tr>\n",
       "      <th>3</th>\n",
       "      <td>2021-01-04</td>\n",
       "      <td>4235750.0</td>\n",
       "      <td>4156750.0</td>\n",
       "      <td>6376620.0</td>\n",
       "      <td>59472.0</td>\n",
       "      <td>72688.0</td>\n",
       "      <td>59611.0</td>\n",
       "      <td>8392500.0</td>\n",
       "      <td>3.0</td>\n",
       "    </tr>\n",
       "    <tr>\n",
       "      <th>4</th>\n",
       "      <td>2021-01-11</td>\n",
       "      <td>4131750.0</td>\n",
       "      <td>4131750.0</td>\n",
       "      <td>10757082.0</td>\n",
       "      <td>1375720.0</td>\n",
       "      <td>1448511.0</td>\n",
       "      <td>1375823.0</td>\n",
       "      <td>8263500.0</td>\n",
       "      <td>4.0</td>\n",
       "    </tr>\n",
       "  </tbody>\n",
       "</table>\n",
       "</div>"
      ],
      "text/plain": [
       "        Week  Shipped Dose 1  Shipped Dose 2  Received Dose 1  \\\n",
       "0 2020-12-14       2975700.0       2938650.0          14856.0   \n",
       "1 2020-12-21       8051875.0       8010475.0        1526326.0   \n",
       "2 2020-12-28       4690525.0       4690525.0        3502976.0   \n",
       "3 2021-01-04       4235750.0       4156750.0        6376620.0   \n",
       "4 2021-01-11       4131750.0       4131750.0       10757082.0   \n",
       "\n",
       "   Received Dose 2  Fully Vaccinated Total  New Fully Vaccinated  \\\n",
       "0           1360.0                  1454.0                1454.0   \n",
       "1           3515.0                  5077.0                3623.0   \n",
       "2           7934.0                 13077.0                8000.0   \n",
       "3          59472.0                 72688.0               59611.0   \n",
       "4        1375720.0               1448511.0             1375823.0   \n",
       "\n",
       "   Total Shipped  Week #  \n",
       "0      5914350.0     0.0  \n",
       "1     16062350.0     1.0  \n",
       "2      9381050.0     2.0  \n",
       "3      8392500.0     3.0  \n",
       "4      8263500.0     4.0  "
      ]
     },
     "execution_count": 17,
     "metadata": {},
     "output_type": "execute_result"
    }
   ],
   "source": [
    "totalDose1 = 0\n",
    "totalDose2 = 0\n",
    "totalFull = 0\n",
    "totalNewFull = 0\n",
    "weekCounter = 0\n",
    "weeklyVaccines = pd.DataFrame({'Week': [],  \\\n",
    "                            'Shipped Dose 1': [], 'Shipped Dose 2': [], 'Received Dose 1': [], 'Received Dose 2': [], \\\n",
    "                            'Fully Vaccinated Total': [], 'New Fully Vaccinated': [],})\n",
    "for i in range(len(vaccines)-1):\n",
    "    totalDose1 += vaccines.loc[i, 'Received Dose 1']\n",
    "    totalDose2 += vaccines.loc[i, 'Received Dose 2']\n",
    "    totalFull = vaccines.loc[i, 'Fully Vaccinated Total']\n",
    "    totalNewFull += vaccines.loc[i, 'New Fully Vaccinated']\n",
    "    if (vaccines.loc[i, 'Week'] != vaccines.loc[i+1, 'Week']):\n",
    "        weeklyVaccines = weeklyVaccines.append({'Week': vaccines.loc[i, 'Week'], \\\n",
    "                               'Week #': weekCounter, \\\n",
    "                               'Total Shipped': vaccines.loc[i, 'Total Shipped'], \\\n",
    "                               'Shipped Dose 1': vaccines.loc[i, 'Shipped Dose 1'], \\\n",
    "                               'Shipped Dose 2': vaccines.loc[i, 'Shipped Dose 2'], \\\n",
    "                               'Received Dose 1': totalDose1, \\\n",
    "                               'Received Dose 2': totalDose2, \\\n",
    "                               'Fully Vaccinated Total': totalFull, \\\n",
    "                               'New Fully Vaccinated': totalNewFull, \\\n",
    "                              }, ignore_index=True)\n",
    "        totalDose = 0\n",
    "        totalDose2 = 0\n",
    "        totalFull = 0\n",
    "        totalNewFull = 0\n",
    "        weekCounter += 1\n",
    "weeklyVaccines.head()"
   ]
  },
  {
   "cell_type": "markdown",
   "metadata": {},
   "source": [
    "## Fitting and plotting"
   ]
  },
  {
   "cell_type": "markdown",
   "metadata": {},
   "source": [
    "Now that we have the data we need, we can perform 2nd, 3rd, and 4th degree polynomial\n",
    " least squares approximation, using `Week #` as the independent variable and `Fully Vaccinated Total` as the dependent variable of measurement."
   ]
  },
  {
   "cell_type": "code",
   "execution_count": 18,
   "metadata": {},
   "outputs": [
    {
     "data": {
      "text/plain": [
       "<matplotlib.axes._subplots.AxesSubplot at 0x165b7ca4518>"
      ]
     },
     "execution_count": 18,
     "metadata": {},
     "output_type": "execute_result"
    },
    {
     "data": {
      "image/png": "[encoded data removed]",
      "text/plain": [
       "<Figure size 432x288 with 1 Axes>"
      ]
     },
     "metadata": {
      "needs_background": "light"
     },
     "output_type": "display_data"
    }
   ],
   "source": [
    "weeklyVaccines.plot(kind=\"scatter\", x='Week #', y='Fully Vaccinated Total')"
   ]
  },
  {
   "cell_type": "code",
   "execution_count": 19,
   "metadata": {},
   "outputs": [],
   "source": [
    "np_weeks = weeklyVaccines['Week #'].to_numpy()\n",
    "np_vaxx = weeklyVaccines['Fully Vaccinated Total'].to_numpy()"
   ]
  },
  {
   "cell_type": "code",
   "execution_count": 20,
   "metadata": {},
   "outputs": [
    {
     "data": {
      "text/plain": [
       "array([1.4540000e+03, 5.0770000e+03, 1.3077000e+04, 7.2688000e+04,\n",
       "       1.4485110e+06, 2.5864300e+06, 4.4701680e+06, 7.5134980e+06,\n",
       "       1.1962269e+07, 1.7216949e+07, 2.2615091e+07, 2.9064207e+07,\n",
       "       3.5379592e+07, 4.2583798e+07, 4.8835347e+07, 5.7269179e+07,\n",
       "       6.7267355e+07, 7.9762124e+07, 8.9758631e+07, 9.9669047e+07,\n",
       "       1.0918274e+08])"
      ]
     },
     "execution_count": 20,
     "metadata": {},
     "output_type": "execute_result"
    }
   ],
   "source": [
    "np_vaxx"
   ]
  },
  {
   "cell_type": "code",
   "execution_count": 21,
   "metadata": {},
   "outputs": [
    {
     "data": {
      "text/plain": [
       "array([[ 0.,  1.],\n",
       "       [ 1.,  1.],\n",
       "       [ 2.,  1.],\n",
       "       [ 3.,  1.],\n",
       "       [ 4.,  1.],\n",
       "       [ 5.,  1.],\n",
       "       [ 6.,  1.],\n",
       "       [ 7.,  1.],\n",
       "       [ 8.,  1.],\n",
       "       [ 9.,  1.],\n",
       "       [10.,  1.],\n",
       "       [11.,  1.],\n",
       "       [12.,  1.],\n",
       "       [13.,  1.],\n",
       "       [14.,  1.],\n",
       "       [15.,  1.],\n",
       "       [16.,  1.],\n",
       "       [17.,  1.],\n",
       "       [18.,  1.],\n",
       "       [19.,  1.],\n",
       "       [20.,  1.]])"
      ]
     },
     "execution_count": 21,
     "metadata": {},
     "output_type": "execute_result"
    }
   ],
   "source": [
    "A = np.vstack([np_weeks, np.ones(len(np_weeks))]).T\n",
    "A"
   ]
  },
  {
   "cell_type": "markdown",
   "metadata": {},
   "source": [
    "1st degree approximation"
   ]
  },
  {
   "cell_type": "code",
   "execution_count": 22,
   "metadata": {},
   "outputs": [],
   "source": [
    "m, c = np.linalg.lstsq(A, np_vaxx, rcond=None)[0]"
   ]
  },
  {
   "cell_type": "code",
   "execution_count": 23,
   "metadata": {},
   "outputs": [
    {
     "data": {
      "text/plain": [
       "(5550986.237662337, -20906184.66233766)"
      ]
     },
     "execution_count": 23,
     "metadata": {},
     "output_type": "execute_result"
    }
   ],
   "source": [
    "m, c"
   ]
  },
  {
   "cell_type": "code",
   "execution_count": 24,
   "metadata": {},
   "outputs": [
    {
     "data": {
      "image/png": "[encoded data removed]",
      "text/plain": [
       "<Figure size 432x288 with 1 Axes>"
      ]
     },
     "metadata": {
      "needs_background": "light"
     },
     "output_type": "display_data"
    }
   ],
   "source": [
    "plt.plot(np_weeks, np_vaxx, 'o', label='Original data', markersize=1)\n",
    "\n",
    "plt.plot(np_weeks, m*np_weeks + c, 'g', label='Fitted line')\n",
    "plt.show()"
   ]
  },
  {
   "cell_type": "code",
   "execution_count": 25,
   "metadata": {},
   "outputs": [
    {
     "data": {
      "text/latex": [
       "$x \\mapsto \\text{22321787.2124877} + \\text{55509862.37662337}\\,\\left(\\text{-1.0} + \\text{0.1}x\\right) + \\text{33496065.00490363}\\,\\left(\\text{-1.0} + \\text{0.1}x\\right)^{2}$"
      ],
      "text/plain": [
       "Polynomial([22321787.2124877 , 55509862.37662337, 33496065.00490363], domain=[ 0., 20.], window=[-1.,  1.])"
      ]
     },
     "execution_count": 25,
     "metadata": {},
     "output_type": "execute_result"
    }
   ],
   "source": [
    "model2 = np.polynomial.polynomial.Polynomial.fit(np_weeks, np_vaxx, 2)\n",
    "a2,b2,c2 = model2\n",
    "model2"
   ]
  },
  {
   "cell_type": "code",
   "execution_count": 26,
   "metadata": {},
   "outputs": [
    {
     "data": {
      "image/png": "[encoded data removed]",
      "text/plain": [
       "<Figure size 432x288 with 1 Axes>"
      ]
     },
     "metadata": {
      "needs_background": "light"
     },
     "output_type": "display_data"
    }
   ],
   "source": [
    "plt.plot(np_weeks, np_vaxx, 'o', label='Original data', markersize=1)\n",
    "plt.plot(np_weeks, a2+b2*(0.1*np_weeks-1)+c2*((0.1*(np_weeks)-1)**2), 'g')\n",
    "plt.show()"
   ]
  },
  {
   "cell_type": "code",
   "execution_count": 27,
   "metadata": {},
   "outputs": [
    {
     "data": {
      "text/latex": [
       "$x \\mapsto \\text{22321787.212487694} + \\text{56660149.29162769}\\,\\left(\\text{-1.0} + \\text{0.1}x\\right) + \\text{33496065.00490368}\\,\\left(\\text{-1.0} + \\text{0.1}x\\right)^{2} - \\text{1748156.405781641}\\,\\left(\\text{-1.0} + \\text{0.1}x\\right)^{3}$"
      ],
      "text/plain": [
       "Polynomial([22321787.21248769, 56660149.29162769, 33496065.00490368,\n",
       "       -1748156.40578164], domain=[ 0., 20.], window=[-1.,  1.])"
      ]
     },
     "execution_count": 27,
     "metadata": {},
     "output_type": "execute_result"
    }
   ],
   "source": [
    "model3 = np.polynomial.polynomial.Polynomial.fit(np_weeks, np_vaxx, 3)\n",
    "a3,b3,c3,d3 = model3\n",
    "model3"
   ]
  },
  {
   "cell_type": "code",
   "execution_count": 28,
   "metadata": {},
   "outputs": [
    {
     "data": {
      "image/png": "[encoded data removed]",
      "text/plain": [
       "<Figure size 432x288 with 1 Axes>"
      ]
     },
     "metadata": {
      "needs_background": "light"
     },
     "output_type": "display_data"
    }
   ],
   "source": [
    "plt.plot(np_weeks, np_vaxx, 'o', label='Original data', markersize=1)\n",
    "plt.plot(np_weeks, a3+b3*(0.1*np_weeks-1)+c3*((0.1*(np_weeks)-1)**2)+d3*((0.1*(np_weeks)-1)**3), 'g')\n",
    "plt.show()"
   ]
  },
  {
   "cell_type": "code",
   "execution_count": 29,
   "metadata": {},
   "outputs": [
    {
     "data": {
      "image/png": "[encoded data removed]",
      "text/plain": [
       "<Figure size 432x288 with 1 Axes>"
      ]
     },
     "metadata": {
      "needs_background": "light"
     },
     "output_type": "display_data"
    }
   ],
   "source": [
    "# Approximate herd immunity threshold population is 70% of 331,449,281 (US 2020 census) = 232014496\n",
    "plt.plot(np_weeks, [232014496]*len(np_weeks), 'g', label='Herd Immunity')\n",
    "plt.plot(np_weeks, np_vaxx, 'o', label='Original data', markersize=1)\n",
    "plt.plot(np_weeks, m*np_weeks + c, 'c', label='Fitted line')\n",
    "plt.plot(np_weeks, a2+b2*(0.1*np_weeks-1)+c2*((0.1*(np_weeks)-1)**2), 'b')\n",
    "plt.plot(np_weeks, a3+b3*(0.1*np_weeks-1)+c3*((0.1*(np_weeks)-1)**2)+d3*((0.1*(np_weeks)-1)**3), 'm')\n",
    "plt.show()"
   ]
  },
  {
   "cell_type": "code",
   "execution_count": 30,
   "metadata": {},
   "outputs": [
    {
     "data": {
      "text/plain": [
       "array([ 0.,  1.,  2.,  3.,  4.,  5.,  6.,  7.,  8.,  9., 10., 11., 12.,\n",
       "       13., 14., 15., 16., 17., 18., 19., 20., 21., 22., 23., 24., 25.,\n",
       "       26., 27., 28., 29., 30., 31., 32., 33., 34., 35., 36., 37., 38.,\n",
       "       39., 40., 41.])"
      ]
     },
     "execution_count": 30,
     "metadata": {},
     "output_type": "execute_result"
    }
   ],
   "source": [
    "longer_x = np.concatenate([np_weeks, (21+np_weeks)])\n",
    "longer_x"
   ]
  },
  {
   "cell_type": "code",
   "execution_count": 31,
   "metadata": {
    "scrolled": true
   },
   "outputs": [
    {
     "data": {
      "image/png": "[encoded data removed]",
      "text/plain": [
       "<Figure size 432x288 with 1 Axes>"
      ]
     },
     "metadata": {
      "needs_background": "light"
     },
     "output_type": "display_data"
    }
   ],
   "source": [
    "plt.plot(longer_x, [232014496]*len(longer_x), 'g', label='Herd Immunity')\n",
    "plt.plot(longer_x, m*longer_x + c, 'c', label='Degree 1')\n",
    "plt.plot(longer_x, a2+b2*(0.1*longer_x-1)+c2*((0.1*(longer_x)-1)**2), 'b', label=\"Degree 2\")\n",
    "plt.plot(longer_x, a3+b3*(0.1*longer_x-1)+c3*((0.1*(longer_x)-1)**2)+d3*((0.1*(longer_x)-1)**3), 'm', label=\"Degree 3\")\n",
    "plt.plot(np_weeks, np_vaxx, marker='o', color=\"r\", linestyle=\"None\", label='Original data', markersize=3)\n",
    "plt.ylim([0, 252000000])\n",
    "leg = plt.legend()\n",
    "plt.show()"
   ]
  },
  {
   "cell_type": "code",
   "execution_count": 32,
   "metadata": {},
   "outputs": [
    {
     "data": {
      "text/plain": [
       "28.579823823697996"
      ]
     },
     "execution_count": 32,
     "metadata": {},
     "output_type": "execute_result"
    }
   ],
   "source": [
    "thresh = 232014496 # Ths USA 2020 Census population is 331,449,281. 70% of it is 232,014,496.\n",
    "d3estim = model3 - thresh\n",
    "d3estim.roots()[1]"
   ]
  },
  {
   "cell_type": "code",
   "execution_count": 33,
   "metadata": {},
   "outputs": [
    {
     "data": {
      "text/plain": [
       "28.070758618423703"
      ]
     },
     "execution_count": 33,
     "metadata": {},
     "output_type": "execute_result"
    }
   ],
   "source": [
    "d2estim = model2 - thresh\n",
    "d2estim.roots()[1]"
   ]
  },
  {
   "cell_type": "code",
   "execution_count": 34,
   "metadata": {},
   "outputs": [
    {
     "data": {
      "text/plain": [
       "array([-2.52920681e+08, -2.47369694e+08, -2.41818708e+08, -2.36267722e+08,\n",
       "       -2.30716736e+08, -2.25165749e+08, -2.19614763e+08, -2.14063777e+08,\n",
       "       -2.08512791e+08, -2.02961805e+08, -1.97410818e+08, -1.91859832e+08,\n",
       "       -1.86308846e+08, -1.80757860e+08, -1.75206873e+08, -1.69655887e+08,\n",
       "       -1.64104901e+08, -1.58553915e+08, -1.53002928e+08, -1.47451942e+08,\n",
       "       -1.41900956e+08, -1.36349970e+08, -1.30798983e+08, -1.25247997e+08,\n",
       "       -1.19697011e+08, -1.14146025e+08, -1.08595038e+08, -1.03044052e+08,\n",
       "       -9.74930660e+07, -9.19420798e+07, -8.63910935e+07, -8.08401073e+07,\n",
       "       -7.52891211e+07, -6.97381348e+07, -6.41871486e+07, -5.86361623e+07,\n",
       "       -5.30851761e+07, -4.75341899e+07, -4.19832036e+07, -3.64322174e+07,\n",
       "       -3.08812312e+07, -2.53302449e+07])"
      ]
     },
     "execution_count": 34,
     "metadata": {},
     "output_type": "execute_result"
    }
   ],
   "source": [
    "d1estim = m*longer_x + c - thresh\n",
    "d1estim\n",
    "# root for 1st degree polynomial is at week 46 -  week of October 25 (5,550,986.237662337x-20,906,184.66233766-232014496)"
   ]
  },
  {
   "cell_type": "markdown",
   "metadata": {},
   "source": [
    "From this, we see that Week 28 is the general estimate for 2nd and 3rd degree polynomials = week of June 21, 2021"
   ]
  },
  {
   "cell_type": "code",
   "execution_count": 35,
   "metadata": {},
   "outputs": [
    {
     "data": {
      "text/plain": [
       "110729845.10323742"
      ]
     },
     "execution_count": 35,
     "metadata": {},
     "output_type": "execute_result"
    }
   ],
   "source": [
    "# Let's see if we can check accuracy against week 20\n",
    "model3(20) # Week 20 estimate with degree 3 polynomial"
   ]
  },
  {
   "cell_type": "code",
   "execution_count": 36,
   "metadata": {},
   "outputs": [
    {
     "data": {
      "text/plain": [
       "109182740.0"
      ]
     },
     "execution_count": 36,
     "metadata": {},
     "output_type": "execute_result"
    }
   ],
   "source": [
    "weeklyVaccines.loc[20]['Fully Vaccinated Total']"
   ]
  },
  {
   "cell_type": "code",
   "execution_count": 37,
   "metadata": {},
   "outputs": [
    {
     "data": {
      "text/plain": [
       "1547105.1032374203"
      ]
     },
     "execution_count": 37,
     "metadata": {},
     "output_type": "execute_result"
    }
   ],
   "source": [
    "abs(weeklyVaccines.loc[20]['Fully Vaccinated Total'] - model3(20))"
   ]
  },
  {
   "cell_type": "markdown",
   "metadata": {},
   "source": [
    "## Error Analysis"
   ]
  },
  {
   "cell_type": "markdown",
   "metadata": {},
   "source": [
    "| Model | Model Equation  | MSE | Expected week of receiving immunity |\n",
    "| --- | --- | --- | --- |\n",
    "|1st degree linear regression| `code block`|data3| |\n",
    "|2nd degree linear regression|`equation here`|data|| "
   ]
  },
  {
   "cell_type": "code",
   "execution_count": 38,
   "metadata": {},
   "outputs": [
    {
     "name": "stdout",
     "output_type": "stream",
     "text": [
      "9693920.666419296 is the mean squared error\n"
     ]
    }
   ],
   "source": [
    "# For degree 1:\n",
    "sum = 0\n",
    "for i in range(len(A)):\n",
    "    # print(abs((m*longer_x + c)[i] - weeklyVaccines.loc[i]['Fully Vaccinated Total']))\n",
    "    sum += abs((m*longer_x + c)[i] - weeklyVaccines.loc[i]['Fully Vaccinated Total'])\n",
    "print(sum/len(A), 'is the mean squared error')"
   ]
  },
  {
   "cell_type": "code",
   "execution_count": 39,
   "metadata": {},
   "outputs": [
    {
     "name": "stdout",
     "output_type": "stream",
     "text": [
      "783867.268217411 is the mean squared error\n"
     ]
    }
   ],
   "source": [
    "# For degree 2:\n",
    "sum = 0\n",
    "for i in range(len(A)):\n",
    "    sum += abs(model2(i) - weeklyVaccines.loc[i]['Fully Vaccinated Total'])\n",
    "print(sum/len(A), 'is the mean squared error')"
   ]
  },
  {
   "cell_type": "code",
   "execution_count": 40,
   "metadata": {},
   "outputs": [
    {
     "name": "stdout",
     "output_type": "stream",
     "text": [
      "764895.2694965963 is the mean squared error\n"
     ]
    }
   ],
   "source": [
    "# For degree 3:\n",
    "sum = 0\n",
    "for i in range(len(A)):\n",
    "    sum += abs(model3(i) - weeklyVaccines.loc[i]['Fully Vaccinated Total'])\n",
    "print(sum/len(A), 'is the mean squared error')"
   ]
  },
  {
   "cell_type": "markdown",
   "metadata": {},
   "source": [
    "### Next Steps\n",
    "- Try dividing datapoints into intervals corressponding to general milestones in vaccine effort\n",
    "- Use nonlinear regression by log transforming data"
   ]
  },
  {
   "cell_type": "code",
   "execution_count": null,
   "metadata": {},
   "outputs": [],
   "source": []
  }
 ],
 "metadata": {
  "kernelspec": {
   "display_name": "Python 3",
   "language": "python",
   "name": "python3"
  },
  "language_info": {
   "codemirror_mode": {
    "name": "ipython",
    "version": 3
   },
   "file_extension": ".py",
   "mimetype": "text/x-python",
   "name": "python",
   "nbconvert_exporter": "python",
   "pygments_lexer": "ipython3",
   "version": "3.7.3"
  }
 },
 "nbformat": 4,
 "nbformat_minor": 2
}
